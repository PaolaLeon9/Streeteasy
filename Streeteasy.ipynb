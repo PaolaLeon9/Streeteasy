{
 "cells": [
  {
   "cell_type": "markdown",
   "id": "09bc538d",
   "metadata": {},
   "source": [
    "# Streeteasy "
   ]
  },
  {
   "cell_type": "markdown",
   "id": "9ccbb3e9",
   "metadata": {},
   "source": [
    "En el siguiente proyecto se estudiará la relación entre los costos de renta de viviendas en tres ciudades de EUA, Brooklyn, Manhattan y Queens. Para predecir la renta de una vivienda, hay diversos factores a considerar, como son: ubicación, calidad del aire, datos demográficos, si cuenta con estacionamiento, etc.\n",
    "\n",
    "Se utilizará regresión lineal múltiple para hacer la predicción. \n",
    "\n",
    "Los datos utilizados en este proyecto se obtuvieron de [Streeteasy](https://github.com/Codecademy/datasets/tree/master/streeteasy) en asociación con Codecademy. "
   ]
  },
  {
   "cell_type": "code",
   "execution_count": 1,
   "id": "075b6228",
   "metadata": {},
   "outputs": [],
   "source": [
    "import pandas as pd\n",
    "import numpy as np \n",
    "import matplotlib.pyplot as plt \n",
    "from sklearn.linear_model import LinearRegression \n",
    "from sklearn.model_selection import train_test_split"
   ]
  },
  {
   "cell_type": "code",
   "execution_count": 8,
   "id": "0d825be6",
   "metadata": {},
   "outputs": [],
   "source": [
    "df = pd.read_csv('streeteasy.csv')\n",
    "df_b = pd.read_csv('brooklyn.csv')\n",
    "df_m = pd.read_csv('manhattan.csv')\n",
    "df_q = pd.read_csv('queens.csv')"
   ]
  },
  {
   "cell_type": "code",
   "execution_count": 10,
   "id": "843e63f4",
   "metadata": {},
   "outputs": [
    {
     "data": {
      "text/html": [
       "<div>\n",
       "<style scoped>\n",
       "    .dataframe tbody tr th:only-of-type {\n",
       "        vertical-align: middle;\n",
       "    }\n",
       "\n",
       "    .dataframe tbody tr th {\n",
       "        vertical-align: top;\n",
       "    }\n",
       "\n",
       "    .dataframe thead th {\n",
       "        text-align: right;\n",
       "    }\n",
       "</style>\n",
       "<table border=\"1\" class=\"dataframe\">\n",
       "  <thead>\n",
       "    <tr style=\"text-align: right;\">\n",
       "      <th></th>\n",
       "      <th>rental_id</th>\n",
       "      <th>building_id</th>\n",
       "      <th>rent</th>\n",
       "      <th>bedrooms</th>\n",
       "      <th>bathrooms</th>\n",
       "      <th>size_sqft</th>\n",
       "      <th>min_to_subway</th>\n",
       "      <th>floor</th>\n",
       "      <th>building_age_yrs</th>\n",
       "      <th>no_fee</th>\n",
       "      <th>has_roofdeck</th>\n",
       "      <th>has_washer_dryer</th>\n",
       "      <th>has_doorman</th>\n",
       "      <th>has_elevator</th>\n",
       "      <th>has_dishwasher</th>\n",
       "      <th>has_patio</th>\n",
       "      <th>has_gym</th>\n",
       "      <th>neighborhood</th>\n",
       "      <th>submarket</th>\n",
       "      <th>borough</th>\n",
       "    </tr>\n",
       "  </thead>\n",
       "  <tbody>\n",
       "    <tr>\n",
       "      <th>0</th>\n",
       "      <td>1545</td>\n",
       "      <td>44518357</td>\n",
       "      <td>2550</td>\n",
       "      <td>0.0</td>\n",
       "      <td>1</td>\n",
       "      <td>480</td>\n",
       "      <td>9</td>\n",
       "      <td>2.0</td>\n",
       "      <td>17</td>\n",
       "      <td>1</td>\n",
       "      <td>1</td>\n",
       "      <td>0</td>\n",
       "      <td>0</td>\n",
       "      <td>1</td>\n",
       "      <td>1</td>\n",
       "      <td>0</td>\n",
       "      <td>1</td>\n",
       "      <td>Upper East Side</td>\n",
       "      <td>All Upper East Side</td>\n",
       "      <td>Manhattan</td>\n",
       "    </tr>\n",
       "    <tr>\n",
       "      <th>1</th>\n",
       "      <td>2472</td>\n",
       "      <td>94441623</td>\n",
       "      <td>11500</td>\n",
       "      <td>2.0</td>\n",
       "      <td>2</td>\n",
       "      <td>2000</td>\n",
       "      <td>4</td>\n",
       "      <td>1.0</td>\n",
       "      <td>96</td>\n",
       "      <td>0</td>\n",
       "      <td>0</td>\n",
       "      <td>0</td>\n",
       "      <td>0</td>\n",
       "      <td>0</td>\n",
       "      <td>0</td>\n",
       "      <td>0</td>\n",
       "      <td>0</td>\n",
       "      <td>Greenwich Village</td>\n",
       "      <td>All Downtown</td>\n",
       "      <td>Manhattan</td>\n",
       "    </tr>\n",
       "    <tr>\n",
       "      <th>2</th>\n",
       "      <td>10234</td>\n",
       "      <td>87632265</td>\n",
       "      <td>3000</td>\n",
       "      <td>3.0</td>\n",
       "      <td>1</td>\n",
       "      <td>1000</td>\n",
       "      <td>4</td>\n",
       "      <td>1.0</td>\n",
       "      <td>106</td>\n",
       "      <td>0</td>\n",
       "      <td>0</td>\n",
       "      <td>0</td>\n",
       "      <td>0</td>\n",
       "      <td>0</td>\n",
       "      <td>0</td>\n",
       "      <td>0</td>\n",
       "      <td>0</td>\n",
       "      <td>Astoria</td>\n",
       "      <td>Northwest Queens</td>\n",
       "      <td>Queens</td>\n",
       "    </tr>\n",
       "    <tr>\n",
       "      <th>3</th>\n",
       "      <td>2919</td>\n",
       "      <td>76909719</td>\n",
       "      <td>4500</td>\n",
       "      <td>1.0</td>\n",
       "      <td>1</td>\n",
       "      <td>916</td>\n",
       "      <td>2</td>\n",
       "      <td>51.0</td>\n",
       "      <td>29</td>\n",
       "      <td>0</td>\n",
       "      <td>1</td>\n",
       "      <td>0</td>\n",
       "      <td>1</td>\n",
       "      <td>1</td>\n",
       "      <td>1</td>\n",
       "      <td>0</td>\n",
       "      <td>0</td>\n",
       "      <td>Midtown</td>\n",
       "      <td>All Midtown</td>\n",
       "      <td>Manhattan</td>\n",
       "    </tr>\n",
       "    <tr>\n",
       "      <th>4</th>\n",
       "      <td>2790</td>\n",
       "      <td>92953520</td>\n",
       "      <td>4795</td>\n",
       "      <td>1.0</td>\n",
       "      <td>1</td>\n",
       "      <td>975</td>\n",
       "      <td>3</td>\n",
       "      <td>8.0</td>\n",
       "      <td>31</td>\n",
       "      <td>0</td>\n",
       "      <td>0</td>\n",
       "      <td>0</td>\n",
       "      <td>1</td>\n",
       "      <td>1</td>\n",
       "      <td>1</td>\n",
       "      <td>0</td>\n",
       "      <td>1</td>\n",
       "      <td>Greenwich Village</td>\n",
       "      <td>All Downtown</td>\n",
       "      <td>Manhattan</td>\n",
       "    </tr>\n",
       "  </tbody>\n",
       "</table>\n",
       "</div>"
      ],
      "text/plain": [
       "   rental_id  building_id   rent  bedrooms  bathrooms  size_sqft  \\\n",
       "0       1545     44518357   2550       0.0          1        480   \n",
       "1       2472     94441623  11500       2.0          2       2000   \n",
       "2      10234     87632265   3000       3.0          1       1000   \n",
       "3       2919     76909719   4500       1.0          1        916   \n",
       "4       2790     92953520   4795       1.0          1        975   \n",
       "\n",
       "   min_to_subway  floor  building_age_yrs  no_fee  has_roofdeck  \\\n",
       "0              9    2.0                17       1             1   \n",
       "1              4    1.0                96       0             0   \n",
       "2              4    1.0               106       0             0   \n",
       "3              2   51.0                29       0             1   \n",
       "4              3    8.0                31       0             0   \n",
       "\n",
       "   has_washer_dryer  has_doorman  has_elevator  has_dishwasher  has_patio  \\\n",
       "0                 0            0             1               1          0   \n",
       "1                 0            0             0               0          0   \n",
       "2                 0            0             0               0          0   \n",
       "3                 0            1             1               1          0   \n",
       "4                 0            1             1               1          0   \n",
       "\n",
       "   has_gym       neighborhood            submarket    borough  \n",
       "0        1    Upper East Side  All Upper East Side  Manhattan  \n",
       "1        0  Greenwich Village         All Downtown  Manhattan  \n",
       "2        0            Astoria     Northwest Queens     Queens  \n",
       "3        0            Midtown          All Midtown  Manhattan  \n",
       "4        1  Greenwich Village         All Downtown  Manhattan  "
      ]
     },
     "execution_count": 10,
     "metadata": {},
     "output_type": "execute_result"
    }
   ],
   "source": [
    "df.head()"
   ]
  },
  {
   "cell_type": "markdown",
   "id": "586d442b",
   "metadata": {},
   "source": [
    "Los DF anteriores están divididos en las siguientes columnas: \n",
    "\n",
    "* rental_id: ID de la renta\n",
    "* rent: precio de la renta (USD)\n",
    "* bedrooms: número de cuartos\n",
    "* bathrooms: número de baños\n",
    "* size_sqft: tamaño (ft^2)\n",
    "* min_to_subway: distancia a la estación de metro (min)\n",
    "* floor: número de piso\n",
    "* building_age_yrs: Edad del edificio\n",
    "* no_fee: ¿tiene tarifa de intermediario? (0 sí, 1 no)\n",
    "* has_roofdeck: ¿tiene cubierta de techo? (0 no, 1 sí)\n",
    "* has_washer_dryer: ¿tiene lavasecadora? (0/1)\n",
    "* has_doorman: ¿tiene portero? (0/1)\n",
    "* has_elevator: ¿tiene elevador? (0/1)\n",
    "* has_dishwasher: ¿tiene lavaplatos? (0/1)\n",
    "* has_patio: ¿tiene patio? (0/1)\n",
    "* has_gym: ¿el edificio tiene gimnasio? (0/1)\n",
    "* neighborhood: vecindario\n",
    "* borough: ciudad"
   ]
  },
  {
   "cell_type": "markdown",
   "id": "fffe3823",
   "metadata": {},
   "source": [
    "Se considerarán como variables independientes todas las anteriores, excepto: `rental_id`, `rent`, `neighborhood` y `borough`. Como variable dependiente se tendrá la variable `rent`. "
   ]
  },
  {
   "cell_type": "code",
   "execution_count": 11,
   "id": "421ddbee",
   "metadata": {},
   "outputs": [],
   "source": [
    "x = df[['bedrooms', 'bathrooms', 'size_sqft', 'min_to_subway', 'floor', 'building_age_yrs', 'no_fee', 'has_roofdeck', 'has_washer_dryer', 'has_doorman', 'has_elevator', 'has_dishwasher', 'has_patio', 'has_gym']]\n",
    "y = df.rent"
   ]
  },
  {
   "cell_type": "markdown",
   "id": "881e953a",
   "metadata": {},
   "source": [
    "Posteriormente, se dividen los datos de entrenamiento considerando el 80% del total de los datos y los de prueba el 20%. "
   ]
  },
  {
   "cell_type": "code",
   "execution_count": 13,
   "id": "afbb1cc7",
   "metadata": {
    "scrolled": true
   },
   "outputs": [
    {
     "name": "stdout",
     "output_type": "stream",
     "text": [
      "(4000, 14)\n",
      "(1000, 14)\n",
      "(4000,)\n",
      "(1000,)\n"
     ]
    }
   ],
   "source": [
    "x_train, x_test, y_train, y_test = train_test_split(x, y, train_size=0.8, test_size=0.2)\n",
    "print(x_train.shape)\n",
    "print(x_test.shape)\n",
    "print(y_train.shape)\n",
    "print(y_test.shape)"
   ]
  },
  {
   "cell_type": "markdown",
   "id": "2cf73ec8",
   "metadata": {},
   "source": [
    "Se construye el modelo y se ajusta a los datos de entrenamiento."
   ]
  },
  {
   "cell_type": "code",
   "execution_count": 14,
   "id": "b594efa6",
   "metadata": {
    "scrolled": true
   },
   "outputs": [
    {
     "data": {
      "text/plain": [
       "LinearRegression(copy_X=True, fit_intercept=True, n_jobs=None,\n",
       "         normalize=False)"
      ]
     },
     "execution_count": 14,
     "metadata": {},
     "output_type": "execute_result"
    }
   ],
   "source": [
    "mlr = LinearRegression()\n",
    "mlr.fit(x_train, y_train)"
   ]
  },
  {
   "cell_type": "markdown",
   "id": "dcc59544",
   "metadata": {},
   "source": [
    "Con el ajuste anterior, se obtiene un $R^2$ de 0.73."
   ]
  },
  {
   "cell_type": "code",
   "execution_count": 15,
   "id": "68406123",
   "metadata": {},
   "outputs": [
    {
     "name": "stdout",
     "output_type": "stream",
     "text": [
      "0.7312096471890561\n"
     ]
    }
   ],
   "source": [
    "print(mlr.score(x_train, y_train))"
   ]
  },
  {
   "cell_type": "markdown",
   "id": "c2cf5ae4",
   "metadata": {},
   "source": [
    "En la siguiente tabla, observamos el coeficiente correspondiente a cada variable. Se observa que la variable de mayor impacto positivo en el modelo es `bathrooms`, mientras que la de mayor impacto negativo es `bedrooms`. "
   ]
  },
  {
   "cell_type": "code",
   "execution_count": 25,
   "id": "a9f9e00e",
   "metadata": {},
   "outputs": [
    {
     "name": "stdout",
     "output_type": "stream",
     "text": [
      "intercept: -960.2980842529751\n",
      "            variable         coef\n",
      "0           bedrooms  -440.122004\n",
      "1          bathrooms  1325.654786\n",
      "2          size_sqft     4.631192\n",
      "3      min_to_subway   -19.103707\n",
      "4              floor    36.647233\n",
      "5   building_age_yrs    -4.654203\n",
      "6             no_fee   -76.315190\n",
      "7       has_roofdeck    38.690952\n",
      "8   has_washer_dryer   162.737389\n",
      "9        has_doorman   -38.320745\n",
      "10      has_elevator   344.914118\n",
      "11    has_dishwasher   -55.056525\n",
      "12         has_patio   -99.701163\n",
      "13           has_gym   -39.813048\n"
     ]
    }
   ],
   "source": [
    "print('intercept:', mlr.intercept_)\n",
    "print(pd.DataFrame({'variable': x.columns, 'coef': mlr.coef_}))"
   ]
  },
  {
   "cell_type": "code",
   "execution_count": 18,
   "id": "b381b0c4",
   "metadata": {},
   "outputs": [
    {
     "name": "stdout",
     "output_type": "stream",
     "text": [
      "[2983.1351108  7035.70233971 8803.4715681  2874.75751898 3373.73847448\n",
      " 3841.19417261 4297.44893145 3459.31870658 4798.84969906 3200.09027252]\n"
     ]
    }
   ],
   "source": [
    "y_predicted = mlr.predict(x_test)\n",
    "print(y_predicted[:10])"
   ]
  },
  {
   "cell_type": "markdown",
   "id": "934c6fa6",
   "metadata": {},
   "source": [
    "Ahora, se realiza una gráfica de dispersión de los valores de renta predichos y los reales. Como se esperaba, se observa comportamieto lineal entre ambas variables. "
   ]
  },
  {
   "cell_type": "code",
   "execution_count": 20,
   "id": "3b43a294",
   "metadata": {
    "scrolled": true
   },
   "outputs": [
    {
     "data": {
      "image/png": "[encoded data removed]",
      "text/plain": [
       "<Figure size 432x288 with 1 Axes>"
      ]
     },
     "metadata": {
      "needs_background": "light"
     },
     "output_type": "display_data"
    }
   ],
   "source": [
    "plt.scatter(y_test, y_predicted, alpha=0.4)\n",
    "plt.title('Prediction vs Real rents')\n",
    "plt.xlabel('y_test')\n",
    "plt.ylabel('y_predicted')\n",
    "plt.show()"
   ]
  }
 ],
 "metadata": {
  "kernelspec": {
   "display_name": "Python 3",
   "language": "python",
   "name": "python3"
  },
  "language_info": {
   "codemirror_mode": {
    "name": "ipython",
    "version": 3
   },
   "file_extension": ".py",
   "mimetype": "text/x-python",
   "name": "python",
   "nbconvert_exporter": "python",
   "pygments_lexer": "ipython3",
   "version": "3.6.13"
  }
 },
 "nbformat": 4,
 "nbformat_minor": 5
}
