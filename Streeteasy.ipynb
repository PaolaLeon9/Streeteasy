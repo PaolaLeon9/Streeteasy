{
 "cells": [
  {
   "cell_type": "markdown",
   "id": "88ff80a3",
   "metadata": {},
   "source": [
    "# Streeteasy "
   ]
  },
  {
   "cell_type": "markdown",
   "id": "726be0a7",
   "metadata": {},
   "source": [
    "En el siguiente proyecto se estudiará la relación entre los costos de renta de viviendas en tres ciudades de EUA, Brooklyn, Manhattan y Queens. \n",
    "\n",
    "Para predecir la renta de una vivienda, hay diversos factores a considerar, como son: ubicación, calidad del aire, datos demográficos, si cuenta con estacionamiento, etc.\n",
    "\n",
    "Se utilizará regresión lineal múltiple para hacer la predicción. \n",
    "\n",
    "Los datos utilizados en este proyecto se obtuvieron de [Streeteasy](https://github.com/Codecademy/datasets/tree/master/streeteasy) en asociación con Codecademy. "
   ]
  },
  {
   "cell_type": "code",
   "execution_count": 1,
   "id": "58919f93",
   "metadata": {},
   "outputs": [],
   "source": [
    "import pandas as pd\n",
    "import numpy as np \n",
    "import matplotlib.pyplot as plt \n",
    "from sklearn.linear_model import LinearRegression \n",
    "from sklearn.model_selection import train_test_split"
   ]
  },
  {
   "cell_type": "code",
   "execution_count": 2,
   "id": "24822703",
   "metadata": {},
   "outputs": [],
   "source": [
    "df = pd.read_csv('streeteasy.csv')"
   ]
  },
  {
   "cell_type": "code",
   "execution_count": 3,
   "id": "e02a721f",
   "metadata": {},
   "outputs": [
    {
     "data": {
      "text/html": [
       "<div>\n",
       "<style scoped>\n",
       "    .dataframe tbody tr th:only-of-type {\n",
       "        vertical-align: middle;\n",
       "    }\n",
       "\n",
       "    .dataframe tbody tr th {\n",
       "        vertical-align: top;\n",
       "    }\n",
       "\n",
       "    .dataframe thead th {\n",
       "        text-align: right;\n",
       "    }\n",
       "</style>\n",
       "<table border=\"1\" class=\"dataframe\">\n",
       "  <thead>\n",
       "    <tr style=\"text-align: right;\">\n",
       "      <th></th>\n",
       "      <th>rental_id</th>\n",
       "      <th>building_id</th>\n",
       "      <th>rent</th>\n",
       "      <th>bedrooms</th>\n",
       "      <th>bathrooms</th>\n",
       "      <th>size_sqft</th>\n",
       "      <th>min_to_subway</th>\n",
       "      <th>floor</th>\n",
       "      <th>building_age_yrs</th>\n",
       "      <th>no_fee</th>\n",
       "      <th>has_roofdeck</th>\n",
       "      <th>has_washer_dryer</th>\n",
       "      <th>has_doorman</th>\n",
       "      <th>has_elevator</th>\n",
       "      <th>has_dishwasher</th>\n",
       "      <th>has_patio</th>\n",
       "      <th>has_gym</th>\n",
       "      <th>neighborhood</th>\n",
       "      <th>submarket</th>\n",
       "      <th>borough</th>\n",
       "    </tr>\n",
       "  </thead>\n",
       "  <tbody>\n",
       "    <tr>\n",
       "      <th>0</th>\n",
       "      <td>1545</td>\n",
       "      <td>44518357</td>\n",
       "      <td>2550</td>\n",
       "      <td>0.0</td>\n",
       "      <td>1</td>\n",
       "      <td>480</td>\n",
       "      <td>9</td>\n",
       "      <td>2.0</td>\n",
       "      <td>17</td>\n",
       "      <td>1</td>\n",
       "      <td>1</td>\n",
       "      <td>0</td>\n",
       "      <td>0</td>\n",
       "      <td>1</td>\n",
       "      <td>1</td>\n",
       "      <td>0</td>\n",
       "      <td>1</td>\n",
       "      <td>Upper East Side</td>\n",
       "      <td>All Upper East Side</td>\n",
       "      <td>Manhattan</td>\n",
       "    </tr>\n",
       "    <tr>\n",
       "      <th>1</th>\n",
       "      <td>2472</td>\n",
       "      <td>94441623</td>\n",
       "      <td>11500</td>\n",
       "      <td>2.0</td>\n",
       "      <td>2</td>\n",
       "      <td>2000</td>\n",
       "      <td>4</td>\n",
       "      <td>1.0</td>\n",
       "      <td>96</td>\n",
       "      <td>0</td>\n",
       "      <td>0</td>\n",
       "      <td>0</td>\n",
       "      <td>0</td>\n",
       "      <td>0</td>\n",
       "      <td>0</td>\n",
       "      <td>0</td>\n",
       "      <td>0</td>\n",
       "      <td>Greenwich Village</td>\n",
       "      <td>All Downtown</td>\n",
       "      <td>Manhattan</td>\n",
       "    </tr>\n",
       "    <tr>\n",
       "      <th>2</th>\n",
       "      <td>10234</td>\n",
       "      <td>87632265</td>\n",
       "      <td>3000</td>\n",
       "      <td>3.0</td>\n",
       "      <td>1</td>\n",
       "      <td>1000</td>\n",
       "      <td>4</td>\n",
       "      <td>1.0</td>\n",
       "      <td>106</td>\n",
       "      <td>0</td>\n",
       "      <td>0</td>\n",
       "      <td>0</td>\n",
       "      <td>0</td>\n",
       "      <td>0</td>\n",
       "      <td>0</td>\n",
       "      <td>0</td>\n",
       "      <td>0</td>\n",
       "      <td>Astoria</td>\n",
       "      <td>Northwest Queens</td>\n",
       "      <td>Queens</td>\n",
       "    </tr>\n",
       "    <tr>\n",
       "      <th>3</th>\n",
       "      <td>2919</td>\n",
       "      <td>76909719</td>\n",
       "      <td>4500</td>\n",
       "      <td>1.0</td>\n",
       "      <td>1</td>\n",
       "      <td>916</td>\n",
       "      <td>2</td>\n",
       "      <td>51.0</td>\n",
       "      <td>29</td>\n",
       "      <td>0</td>\n",
       "      <td>1</td>\n",
       "      <td>0</td>\n",
       "      <td>1</td>\n",
       "      <td>1</td>\n",
       "      <td>1</td>\n",
       "      <td>0</td>\n",
       "      <td>0</td>\n",
       "      <td>Midtown</td>\n",
       "      <td>All Midtown</td>\n",
       "      <td>Manhattan</td>\n",
       "    </tr>\n",
       "    <tr>\n",
       "      <th>4</th>\n",
       "      <td>2790</td>\n",
       "      <td>92953520</td>\n",
       "      <td>4795</td>\n",
       "      <td>1.0</td>\n",
       "      <td>1</td>\n",
       "      <td>975</td>\n",
       "      <td>3</td>\n",
       "      <td>8.0</td>\n",
       "      <td>31</td>\n",
       "      <td>0</td>\n",
       "      <td>0</td>\n",
       "      <td>0</td>\n",
       "      <td>1</td>\n",
       "      <td>1</td>\n",
       "      <td>1</td>\n",
       "      <td>0</td>\n",
       "      <td>1</td>\n",
       "      <td>Greenwich Village</td>\n",
       "      <td>All Downtown</td>\n",
       "      <td>Manhattan</td>\n",
       "    </tr>\n",
       "  </tbody>\n",
       "</table>\n",
       "</div>"
      ],
      "text/plain": [
       "   rental_id  building_id   rent  bedrooms  bathrooms  size_sqft  \\\n",
       "0       1545     44518357   2550       0.0          1        480   \n",
       "1       2472     94441623  11500       2.0          2       2000   \n",
       "2      10234     87632265   3000       3.0          1       1000   \n",
       "3       2919     76909719   4500       1.0          1        916   \n",
       "4       2790     92953520   4795       1.0          1        975   \n",
       "\n",
       "   min_to_subway  floor  building_age_yrs  no_fee  has_roofdeck  \\\n",
       "0              9    2.0                17       1             1   \n",
       "1              4    1.0                96       0             0   \n",
       "2              4    1.0               106       0             0   \n",
       "3              2   51.0                29       0             1   \n",
       "4              3    8.0                31       0             0   \n",
       "\n",
       "   has_washer_dryer  has_doorman  has_elevator  has_dishwasher  has_patio  \\\n",
       "0                 0            0             1               1          0   \n",
       "1                 0            0             0               0          0   \n",
       "2                 0            0             0               0          0   \n",
       "3                 0            1             1               1          0   \n",
       "4                 0            1             1               1          0   \n",
       "\n",
       "   has_gym       neighborhood            submarket    borough  \n",
       "0        1    Upper East Side  All Upper East Side  Manhattan  \n",
       "1        0  Greenwich Village         All Downtown  Manhattan  \n",
       "2        0            Astoria     Northwest Queens     Queens  \n",
       "3        0            Midtown          All Midtown  Manhattan  \n",
       "4        1  Greenwich Village         All Downtown  Manhattan  "
      ]
     },
     "execution_count": 3,
     "metadata": {},
     "output_type": "execute_result"
    }
   ],
   "source": [
    "df.head()"
   ]
  },
  {
   "cell_type": "markdown",
   "id": "71519f7e",
   "metadata": {},
   "source": [
    "Los DF anteriores están divididos en las siguientes columnas: \n",
    "\n",
    "* rental_id: ID de la renta\n",
    "* rent: precio de la renta (USD)\n",
    "* bedrooms: número de cuartos\n",
    "* bathrooms: número de baños\n",
    "* size_sqft: tamaño (ft^2)\n",
    "* min_to_subway: distancia a la estación de metro (min)\n",
    "* floor: número de piso\n",
    "* building_age_yrs: Edad del edificio\n",
    "* no_fee: ¿tiene tarifa de intermediario? (0 sí, 1 no)\n",
    "* has_roofdeck: ¿tiene cubierta de techo? (0 no, 1 sí)\n",
    "* has_washer_dryer: ¿tiene lavasecadora? (0/1)\n",
    "* has_doorman: ¿tiene portero? (0/1)\n",
    "* has_elevator: ¿tiene elevador? (0/1)\n",
    "* has_dishwasher: ¿tiene lavaplatos? (0/1)\n",
    "* has_patio: ¿tiene patio? (0/1)\n",
    "* has_gym: ¿el edificio tiene gimnasio? (0/1)\n",
    "* neighborhood: vecindario\n",
    "* borough: ciudad"
   ]
  },
  {
   "cell_type": "markdown",
   "id": "c8b48108",
   "metadata": {},
   "source": [
    "Se considerarán como variables independientes todas las anteriores, excepto: `rental_id`, `rent`, `neighborhood` y `borough`. Como variable dependiente se tendrá la variable `rent`. "
   ]
  },
  {
   "cell_type": "code",
   "execution_count": 4,
   "id": "222fc955",
   "metadata": {},
   "outputs": [],
   "source": [
    "x = df[['bedrooms', 'bathrooms', 'size_sqft', 'min_to_subway', 'floor', 'building_age_yrs', 'no_fee', 'has_roofdeck', 'has_washer_dryer', 'has_doorman', 'has_elevator', 'has_dishwasher', 'has_patio', 'has_gym']]\n",
    "y = df.rent"
   ]
  },
  {
   "cell_type": "markdown",
   "id": "7fa531a1",
   "metadata": {},
   "source": [
    "Posteriormente, se dividen los datos de entrenamiento considerando el 80% del total de los datos y los de prueba el 20%. "
   ]
  },
  {
   "cell_type": "code",
   "execution_count": 5,
   "id": "c696b538",
   "metadata": {
    "scrolled": true
   },
   "outputs": [
    {
     "name": "stdout",
     "output_type": "stream",
     "text": [
      "(4000, 14)\n",
      "(1000, 14)\n",
      "(4000,)\n",
      "(1000,)\n"
     ]
    }
   ],
   "source": [
    "x_train, x_test, y_train, y_test = train_test_split(x, y, train_size=0.8, test_size=0.2)\n",
    "print(x_train.shape)\n",
    "print(x_test.shape)\n",
    "print(y_train.shape)\n",
    "print(y_test.shape)"
   ]
  },
  {
   "cell_type": "markdown",
   "id": "101478fe",
   "metadata": {},
   "source": [
    "Se construye el modelo y se ajusta a los datos de entrenamiento."
   ]
  },
  {
   "cell_type": "code",
   "execution_count": 6,
   "id": "e8bf34e5",
   "metadata": {
    "scrolled": true
   },
   "outputs": [
    {
     "data": {
      "text/plain": [
       "LinearRegression(copy_X=True, fit_intercept=True, n_jobs=None,\n",
       "         normalize=False)"
      ]
     },
     "execution_count": 6,
     "metadata": {},
     "output_type": "execute_result"
    }
   ],
   "source": [
    "mlr = LinearRegression()\n",
    "mlr.fit(x_train, y_train)"
   ]
  },
  {
   "cell_type": "markdown",
   "id": "b5eb96ea",
   "metadata": {},
   "source": [
    "Con el ajuste anterior, se obtiene un $R^2$ de 0.73."
   ]
  },
  {
   "cell_type": "code",
   "execution_count": 7,
   "id": "dbff2495",
   "metadata": {},
   "outputs": [
    {
     "name": "stdout",
     "output_type": "stream",
     "text": [
      "0.7255510771886733\n"
     ]
    }
   ],
   "source": [
    "print(mlr.score(x_train, y_train))"
   ]
  },
  {
   "cell_type": "markdown",
   "id": "36a90aae",
   "metadata": {},
   "source": [
    "En la siguiente tabla, observamos el coeficiente correspondiente a cada variable. Se observa que la variable de mayor impacto positivo en el modelo es `bathrooms`, mientras que la de mayor impacto negativo es `bedrooms`. "
   ]
  },
  {
   "cell_type": "code",
   "execution_count": 8,
   "id": "6820fe01",
   "metadata": {},
   "outputs": [
    {
     "name": "stdout",
     "output_type": "stream",
     "text": [
      "intercept: -1038.1071730701087\n",
      "            variable         coef\n",
      "0           bedrooms  -464.263438\n",
      "1          bathrooms  1380.381490\n",
      "2          size_sqft     4.635737\n",
      "3      min_to_subway   -16.734828\n",
      "4              floor    39.515854\n",
      "5   building_age_yrs    -4.517654\n",
      "6             no_fee   -97.463002\n",
      "7       has_roofdeck    28.805705\n",
      "8   has_washer_dryer   101.934836\n",
      "9        has_doorman   -79.824101\n",
      "10      has_elevator   368.336988\n",
      "11    has_dishwasher    76.187552\n",
      "12         has_patio   -25.910430\n",
      "13           has_gym  -109.060301\n"
     ]
    }
   ],
   "source": [
    "print('intercept:', mlr.intercept_)\n",
    "print(pd.DataFrame({'variable': x.columns, 'coef': mlr.coef_}))"
   ]
  },
  {
   "cell_type": "code",
   "execution_count": 9,
   "id": "892f78e6",
   "metadata": {},
   "outputs": [
    {
     "name": "stdout",
     "output_type": "stream",
     "text": [
      "[2968.17177292 3149.12753641 3658.24906337 3096.32999864 3778.2025677\n",
      " 4362.91452216 4775.79823726 4106.45799488 4516.284973   2601.05802792]\n"
     ]
    }
   ],
   "source": [
    "y_predicted = mlr.predict(x_test)\n",
    "print(y_predicted[:10])"
   ]
  },
  {
   "cell_type": "markdown",
   "id": "e64260e5",
   "metadata": {},
   "source": [
    "Ahora, se realiza una gráfica de dispersión de los valores de renta predichos y los reales. Como se esperaba, se observa comportamieto lineal entre ambas variables. "
   ]
  },
  {
   "cell_type": "code",
   "execution_count": 10,
   "id": "68283dc4",
   "metadata": {
    "scrolled": true
   },
   "outputs": [
    {
     "data": {
      "image/png": "[encoded data removed]",
      "text/plain": [
       "<Figure size 432x288 with 1 Axes>"
      ]
     },
     "metadata": {
      "needs_background": "light"
     },
     "output_type": "display_data"
    }
   ],
   "source": [
    "plt.scatter(y_test, y_predicted, alpha=0.4)\n",
    "plt.title('Prediction vs Real rents')\n",
    "plt.xlabel('y_test')\n",
    "plt.ylabel('y_predicted')\n",
    "plt.show()"
   ]
  }
 ],
 "metadata": {
  "kernelspec": {
   "display_name": "Python 3",
   "language": "python",
   "name": "python3"
  },
  "language_info": {
   "codemirror_mode": {
    "name": "ipython",
    "version": 3
   },
   "file_extension": ".py",
   "mimetype": "text/x-python",
   "name": "python",
   "nbconvert_exporter": "python",
   "pygments_lexer": "ipython3",
   "version": "3.6.13"
  }
 },
 "nbformat": 4,
 "nbformat_minor": 5
}
